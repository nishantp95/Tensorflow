{
  "nbformat": 4,
  "nbformat_minor": 0,
  "metadata": {
    "colab": {
      "name": "tensorflow_test.ipynb",
      "provenance": [],
      "authorship_tag": "ABX9TyMcUJyJmek56rb0SnjFnjZi",
      "include_colab_link": true
    },
    "kernelspec": {
      "name": "python3",
      "display_name": "Python 3"
    }
  },
  "cells": [
    {
      "cell_type": "markdown",
      "metadata": {
        "id": "view-in-github",
        "colab_type": "text"
      },
      "source": [
        "<a href=\"https://colab.research.google.com/github/nishantp95/Tensorflow/blob/master/tensorflow_test.ipynb\" target=\"_parent\"><img src=\"https://colab.research.google.com/assets/colab-badge.svg\" alt=\"Open In Colab\"/></a>"
      ]
    },
    {
      "cell_type": "code",
      "metadata": {
        "id": "oFVwrEyZ8k08",
        "colab_type": "code",
        "colab": {}
      },
      "source": [
        "import tensorflow as tf\n",
        "import numpy as np\n"
      ],
      "execution_count": 0,
      "outputs": []
    },
    {
      "cell_type": "code",
      "metadata": {
        "id": "ZiVnhHdjAEoZ",
        "colab_type": "code",
        "colab": {}
      },
      "source": [
        "celsius = np.array(['-40','-10','0','8','15','22','38'],dtype = float)\n",
        "fahrenheit = np.array(['-40','14','32','46','59','72','100'],dtype = float)"
      ],
      "execution_count": 0,
      "outputs": []
    },
    {
      "cell_type": "code",
      "metadata": {
        "id": "eNNNsNGKBTZU",
        "colab_type": "code",
        "colab": {
          "base_uri": "https://localhost:8080/",
          "height": 136
        },
        "outputId": "e38120fd-ff93-49aa-f1dd-6d9ff02faef9"
      },
      "source": [
        "for i,c in enumerate(celsius):\n",
        "  print(\"{} celsius = {} degrees fahrenheit\".format(c,fahrenheit[i]))"
      ],
      "execution_count": 8,
      "outputs": [
        {
          "output_type": "stream",
          "text": [
            "-40.0 celsius = -40.0 degrees fahrenheit\n",
            "-10.0 celsius = 14.0 degrees fahrenheit\n",
            "0.0 celsius = 32.0 degrees fahrenheit\n",
            "8.0 celsius = 46.0 degrees fahrenheit\n",
            "15.0 celsius = 59.0 degrees fahrenheit\n",
            "22.0 celsius = 72.0 degrees fahrenheit\n",
            "38.0 celsius = 100.0 degrees fahrenheit\n"
          ],
          "name": "stdout"
        }
      ]
    },
    {
      "cell_type": "code",
      "metadata": {
        "id": "jTwzUFTjBk4h",
        "colab_type": "code",
        "colab": {}
      },
      "source": [
        "# single dense layer created\n",
        "# input_shape : no of inputs to be provided at a time\n",
        "# units specify how many internal variables this layer will have\n",
        "l0 = tf.keras.layers.Dense(units=1,input_shape=[1])"
      ],
      "execution_count": 0,
      "outputs": []
    },
    {
      "cell_type": "code",
      "metadata": {
        "id": "1biZwnXZC88P",
        "colab_type": "code",
        "colab": {}
      },
      "source": [
        "# Assemble layers into one model\n",
        "# Once layers are defined, they need to be assembled into a model. \n",
        "# The sequential model definition takes a list of layers as arguments,specifying\n",
        "# the calculation order from the input to the output\n",
        "# This model has just a single layer l0\n",
        "\n",
        "model = tf.keras.Sequential([l0])"
      ],
      "execution_count": 0,
      "outputs": []
    },
    {
      "cell_type": "code",
      "metadata": {
        "id": "jEIiMzMzEckV",
        "colab_type": "code",
        "colab": {}
      },
      "source": [
        "# Before training, the model has to be compiled.When compiling for training, the model is given :\n",
        "# Loss Function : A way of measuring how far off predictions are from the desired outcome\n",
        "# Optimizer Function : A way of adjusting internal values in order to reduce the loss\n",
        "# 0.1 is the learning rate\n",
        "\n",
        "model.compile(loss='mean_squared_error',optimizer = tf.keras.optimizers.Adam(0.1))"
      ],
      "execution_count": 0,
      "outputs": []
    },
    {
      "cell_type": "code",
      "metadata": {
        "id": "PUvnXTKfG2L4",
        "colab_type": "code",
        "colab": {
          "base_uri": "https://localhost:8080/",
          "height": 34
        },
        "outputId": "bdded36d-9c8e-411c-db13-f9dfa4587867"
      },
      "source": [
        "# Training the model\n",
        "# During training, the model takes in celsius values, performs a calculation using current internal variables \n",
        "# called weights and outputs values which are meant to be fahrenheit equivalents.\n",
        "# This cycle of calculate,compare,adjust is controlled by the fit method.\n",
        "# The epoch argument specifies how many times this cycle has to run.\n",
        "# and the verbose argument controls how much output the method produces\n",
        "\n",
        "history = model.fit(celsius,fahrenheit,epochs=500,verbose=False)\n",
        "print('Finished Training the model')"
      ],
      "execution_count": 14,
      "outputs": [
        {
          "output_type": "stream",
          "text": [
            "Finished Training the model\n"
          ],
          "name": "stdout"
        }
      ]
    },
    {
      "cell_type": "code",
      "metadata": {
        "id": "EcWdLvACIh_D",
        "colab_type": "code",
        "colab": {
          "base_uri": "https://localhost:8080/",
          "height": 296
        },
        "outputId": "8e24a527-3d95-4b61-eeae-8471ed1bd8ef"
      },
      "source": [
        "# Display training statistics\n",
        "\n",
        "import matplotlib.pyplot as plt\n",
        "plt.xlabel('Epoch Number')\n",
        "plt.ylabel('Loss Magnitude')\n",
        "plt.plot(history.history['loss'])"
      ],
      "execution_count": 16,
      "outputs": [
        {
          "output_type": "execute_result",
          "data": {
            "text/plain": [
              "[<matplotlib.lines.Line2D at 0x7f27f628e9b0>]"
            ]
          },
          "metadata": {
            "tags": []
          },
          "execution_count": 16
        },
        {
          "output_type": "display_data",
          "data": {
            "image/png": "[encoded data removed]",
            "text/plain": [
              "<Figure size 432x288 with 1 Axes>"
            ]
          },
          "metadata": {
            "tags": [],
            "needs_background": "light"
          }
        }
      ]
    },
    {
      "cell_type": "code",
      "metadata": {
        "id": "N6S7Iyz_JJuP",
        "colab_type": "code",
        "colab": {
          "base_uri": "https://localhost:8080/",
          "height": 34
        },
        "outputId": "e0a856fc-d27d-4235-e8e9-ca9c1ba8a1fa"
      },
      "source": [
        "# predict values\n",
        "\n",
        "print(model.predict([100.0]))"
      ],
      "execution_count": 17,
      "outputs": [
        {
          "output_type": "stream",
          "text": [
            "[[211.33012]]\n"
          ],
          "name": "stdout"
        }
      ]
    },
    {
      "cell_type": "code",
      "metadata": {
        "id": "k6Sr_w2yJdDW",
        "colab_type": "code",
        "colab": {}
      },
      "source": [
        ""
      ],
      "execution_count": 0,
      "outputs": []
    }
  ]
}